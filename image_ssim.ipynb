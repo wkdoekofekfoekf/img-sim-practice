{
  "cells": [
    {
      "cell_type": "code",
      "execution_count": null,
      "id": "012d6ba8",
      "metadata": {
        "id": "012d6ba8",
        "outputId": "6605a5d4-3bf7-42e3-a461-bc7a875dec8b"
      },
      "outputs": [
        {
          "name": "stdout",
          "output_type": "stream",
          "text": [
            "Requirement already satisfied: imutils in ./anaconda3/envs/tensorflow2.7_p38/lib/python3.8/site-packages (0.5.4)\r\n"
          ]
        }
      ],
      "source": [
        "!pip install imutils\n",
        "!pip install rembg \n",
        "!pip install rembg[gpu]"
      ]
    },
    {
      "cell_type": "code",
      "execution_count": null,
      "id": "f89903a4",
      "metadata": {
        "id": "f89903a4",
        "outputId": "ba8aeb03-aec9-474c-e9c8-e9cecf121705"
      },
      "outputs": [
        {
          "name": "stdout",
          "output_type": "stream",
          "text": [
            "/bin/bash: rembg.__version__: command not found\r\n"
          ]
        }
      ],
      "source": [
        "!rembg.__version__"
      ]
    },
    {
      "cell_type": "code",
      "execution_count": null,
      "id": "bc1cdc67",
      "metadata": {
        "id": "bc1cdc67",
        "outputId": "d3a545bf-ee58-4b6d-c6b5-2a0091c43056"
      },
      "outputs": [
        {
          "ename": "error",
          "evalue": "OpenCV(4.5.5) /io/opencv/modules/imgproc/src/resize.cpp:4052: error: (-215:Assertion failed) !ssize.empty() in function 'resize'\n",
          "output_type": "error",
          "traceback": [
            "\u001b[0;31m---------------------------------------------------------------------------\u001b[0m",
            "\u001b[0;31merror\u001b[0m                                     Traceback (most recent call last)",
            "\u001b[0;32m/tmp/ipykernel_28116/3500058793.py\u001b[0m in \u001b[0;36m<module>\u001b[0;34m\u001b[0m\n\u001b[1;32m     18\u001b[0m \u001b[0mimageB\u001b[0m \u001b[0;34m=\u001b[0m \u001b[0mimageB\u001b[0m\u001b[0;34m\u001b[0m\u001b[0;34m\u001b[0m\u001b[0m\n\u001b[1;32m     19\u001b[0m \u001b[0;34m\u001b[0m\u001b[0m\n\u001b[0;32m---> 20\u001b[0;31m \u001b[0mimageB\u001b[0m \u001b[0;34m=\u001b[0m \u001b[0mcv2\u001b[0m\u001b[0;34m.\u001b[0m\u001b[0mresize\u001b[0m\u001b[0;34m(\u001b[0m\u001b[0mimageB\u001b[0m\u001b[0;34m,\u001b[0m \u001b[0mdsize\u001b[0m\u001b[0;34m=\u001b[0m\u001b[0;34m(\u001b[0m\u001b[0;36m640\u001b[0m\u001b[0;34m,\u001b[0m \u001b[0;36m480\u001b[0m\u001b[0;34m)\u001b[0m\u001b[0;34m,\u001b[0m \u001b[0minterpolation\u001b[0m\u001b[0;34m=\u001b[0m\u001b[0mcv2\u001b[0m\u001b[0;34m.\u001b[0m\u001b[0mINTER_AREA\u001b[0m\u001b[0;34m)\u001b[0m\u001b[0;34m\u001b[0m\u001b[0;34m\u001b[0m\u001b[0m\n\u001b[0m\u001b[1;32m     21\u001b[0m \u001b[0mimageC\u001b[0m \u001b[0;34m=\u001b[0m \u001b[0mimageA\u001b[0m\u001b[0;34m.\u001b[0m\u001b[0mcopy\u001b[0m\u001b[0;34m(\u001b[0m\u001b[0;34m)\u001b[0m\u001b[0;34m\u001b[0m\u001b[0;34m\u001b[0m\u001b[0m\n\u001b[1;32m     22\u001b[0m \u001b[0;34m\u001b[0m\u001b[0m\n",
            "\u001b[0;31merror\u001b[0m: OpenCV(4.5.5) /io/opencv/modules/imgproc/src/resize.cpp:4052: error: (-215:Assertion failed) !ssize.empty() in function 'resize'\n"
          ]
        }
      ],
      "source": [
        "from rembg import remove\n",
        "from skimage.metrics import structural_similarity as ssim\n",
        "import cv2\n",
        "from matplotlib import pyplot as plt\n",
        "import numpy as np\n",
        "from PIL import Image##import 모듈\n",
        "\n",
        "\n",
        "\n",
        "\n",
        "imageA = cv2.imread('stone.jpg')\n",
        "imageA = cv2.resize(imageA, dsize=(640, 480), interpolation=cv2.INTER_AREA)\n",
        "imageB = cv2.imread('dol1.jpg')\n",
        "imageB = imageB\n",
        "imageB = cv2.resize(imageB, dsize=(640, 480), interpolation=cv2.INTER_AREA)\n",
        "\n",
        "\n",
        "tempDiff = cv2.subtract(imageA, imageB)\n",
        "\n",
        "grayA = cv2.cvtColor(imageA, cv2.COLOR_BGR2GRAY)\n",
        "grayB = cv2.cvtColor(imageB, cv2.COLOR_BGR2GRAY)\n",
        "(score, diff) = ssim(grayA, grayB, full=True)\n",
        "diff = (diff * 255).astype(\"uint8\")\n",
        "\n",
        "print(\"일치율: {}\".format(score))\n",
        "\n",
        "\n"
      ]
    },
    {
      "cell_type": "code",
      "execution_count": null,
      "id": "3378d070",
      "metadata": {
        "id": "3378d070"
      },
      "outputs": [],
      "source": [
        "\n",
        "\n",
        "\n",
        "img = cv2.imread('haechi_output.jpg', cv2.IMREAD_COLOR)   # 사진임포트\n",
        "img5 = cv2.imread('haechi.jpg')\n",
        "img = cv2.cvtColor(img, cv2.COLOR_BGR2RGB)    # bgr rgb로변경\n",
        "bgr = img[:,:,0:3]   #넘파이로\n",
        "mask = cv2.inRange(bgr, (0,0,0),(10,10,10))   #검은배경 \n",
        "bgr_new = bgr.copy()\n",
        "bgr_new[mask==255] = (255,255,255)\n",
        "def pause():\n",
        "    # pause\n",
        "    keycode = cv2.waitKey(0)\n",
        "    # ESC key to close imshow\n",
        "    if keycode == 27:         \n",
        "        cv2.destroyAllWindows()\n",
        "img_bgr = bgr_new\n",
        "img_bitwise_not_bgr = cv2.bitwise_not(img_bgr)\n",
        "img_bitwise_not_bgr2gray = cv2.cvtColor(img_bitwise_not_bgr, cv2.COLOR_RGB2GRAY)   \n",
        "ret, img_binary = cv2.threshold(img_bitwise_not_bgr2gray, 150,255,cv2.THRESH_BINARY)\n",
        "contours, hierarchy = cv2.findContours(img_binary, cv2.RETR_EXTERNAL, cv2.CHAIN_APPROX_NONE)\n",
        "img_contour = cv2.drawContours(img_bgr, contours, -1, (255, 255, 255), 10)\n",
        "cv2.imwrite('haechi.png',cv2.copyTo(img5,mask,img_contour))\n",
        "img = Image.open('haechi.png')\n",
        "img.putalpha(50)  # Half alpha; alpha argument must be an int\n",
        "img.save('Haechi.png')\n",
        "\n"
      ]
    },
    {
      "cell_type": "code",
      "execution_count": null,
      "id": "dc51d0da",
      "metadata": {
        "id": "dc51d0da"
      },
      "outputs": [],
      "source": [
        "import cv2\n",
        "from skimage.metrics import structural_similarity as ssim\n",
        "\n",
        "imageA = cv2.imread('h_1.jpg')\n",
        "imageA = cv2.resize(imageA, dsize=(640, 480), interpolation=cv2.INTER_AREA)\n",
        "imageB = cv2.imread('h_2.jpg')\n",
        "imageB = cv2.resize(imageB, dsize=(640, 480), interpolation=cv2.INTER_AREA)\n",
        "imageC = imageA.copy()\n",
        "\n",
        "tempDiff = cv2.subtract(imageA, imageB)\n",
        "\n",
        "grayA = cv2.cvtColor(imageA, cv2.COLOR_BGR2GRAY)\n",
        "grayB = cv2.cvtColor(imageB, cv2.COLOR_BGR2GRAY)\n"
      ]
    },
    {
      "cell_type": "code",
      "execution_count": null,
      "id": "1395e168",
      "metadata": {
        "id": "1395e168",
        "outputId": "0ec08a9b-b6d6-4a81-c4e0-bc28fc1bd39b"
      },
      "outputs": [
        {
          "name": "stdout",
          "output_type": "stream",
          "text": [
            "SSIM: 0.3907943305284175\n"
          ]
        }
      ],
      "source": [
        "(score, diff) = ssim(grayA, grayB, full=True)\n",
        "diff = (diff * 255).astype(\"uint8\")\n",
        "\n",
        "print(\"SSIM: {}\".format(score))\n"
      ]
    },
    {
      "cell_type": "code",
      "execution_count": null,
      "id": "87853545",
      "metadata": {
        "id": "87853545",
        "outputId": "eff543bb-2983-403a-e486-79d14fac8120"
      },
      "outputs": [
        {
          "ename": "NameError",
          "evalue": "name 'cv2' is not defined",
          "output_type": "error",
          "traceback": [
            "\u001b[0;31m---------------------------------------------------------------------------\u001b[0m",
            "\u001b[0;31mNameError\u001b[0m                                 Traceback (most recent call last)",
            "\u001b[0;32m/tmp/ipykernel_22212/665865653.py\u001b[0m in \u001b[0;36m<module>\u001b[0;34m\u001b[0m\n\u001b[0;32m----> 1\u001b[0;31m \u001b[0mimageA\u001b[0m \u001b[0;34m=\u001b[0m \u001b[0mcv2\u001b[0m\u001b[0;34m.\u001b[0m\u001b[0mimread\u001b[0m\u001b[0;34m(\u001b[0m\u001b[0;34m'h_1.jpg'\u001b[0m\u001b[0;34m)\u001b[0m\u001b[0;34m\u001b[0m\u001b[0;34m\u001b[0m\u001b[0m\n\u001b[0m\u001b[1;32m      2\u001b[0m \u001b[0mimageA\u001b[0m \u001b[0;34m=\u001b[0m \u001b[0mcv2\u001b[0m\u001b[0;34m.\u001b[0m\u001b[0mresize\u001b[0m\u001b[0;34m(\u001b[0m\u001b[0mimageA\u001b[0m\u001b[0;34m,\u001b[0m \u001b[0mdsize\u001b[0m\u001b[0;34m=\u001b[0m\u001b[0;34m(\u001b[0m\u001b[0;36m640\u001b[0m\u001b[0;34m,\u001b[0m \u001b[0;36m480\u001b[0m\u001b[0;34m)\u001b[0m\u001b[0;34m,\u001b[0m \u001b[0minterpolation\u001b[0m\u001b[0;34m=\u001b[0m\u001b[0mcv2\u001b[0m\u001b[0;34m.\u001b[0m\u001b[0mINTER_AREA\u001b[0m\u001b[0;34m)\u001b[0m\u001b[0;34m\u001b[0m\u001b[0;34m\u001b[0m\u001b[0m\n\u001b[1;32m      3\u001b[0m \u001b[0mimageB\u001b[0m \u001b[0;34m=\u001b[0m \u001b[0mcv2\u001b[0m\u001b[0;34m.\u001b[0m\u001b[0mimread\u001b[0m\u001b[0;34m(\u001b[0m\u001b[0;34m'h_2.PNG'\u001b[0m\u001b[0;34m)\u001b[0m\u001b[0;34m\u001b[0m\u001b[0;34m\u001b[0m\u001b[0m\n\u001b[1;32m      4\u001b[0m \u001b[0mimageB\u001b[0m \u001b[0;34m=\u001b[0m \u001b[0mimageB\u001b[0m\u001b[0;34m-\u001b[0m\u001b[0;36m20\u001b[0m\u001b[0;34m\u001b[0m\u001b[0;34m\u001b[0m\u001b[0m\n\u001b[1;32m      5\u001b[0m \u001b[0;34m\u001b[0m\u001b[0m\n",
            "\u001b[0;31mNameError\u001b[0m: name 'cv2' is not defined"
          ]
        }
      ],
      "source": [
        "imageA = cv2.imread('h_1.jpg')\n",
        "imageA = cv2.resize(imageA, dsize=(640, 480), interpolation=cv2.INTER_AREA)\n",
        "imageB = cv2.imread('h_2.PNG')\n",
        "imageB = imageB-20\n",
        "\n",
        "imageB = cv2.resize(imageB, dsize=(640, 480), interpolation=cv2.INTER_AREA)\n",
        "imageC = imageA.copy()\n",
        "\n",
        "tempDiff = cv2.subtract(imageA, imageB)\n",
        "\n",
        "grayA = cv2.cvtColor(imageA, cv2.COLOR_BGR2GRAY)\n",
        "grayB = cv2.cvtColor(imageB, cv2.COLOR_BGR2GRAY)\n",
        "(score, diff) = ssim(grayA, grayB, full=True)\n",
        "diff = (diff * 255).astype(\"uint8\")\n",
        "\n",
        "print(\"일치율: {}\".format(score))\n"
      ]
    },
    {
      "cell_type": "code",
      "execution_count": null,
      "id": "e0896564",
      "metadata": {
        "id": "e0896564"
      },
      "outputs": [],
      "source": [
        "grayA = cv2.cvtColor(imageA, cv2.COLOR_BGR2GRAY)\n",
        "grayB = cv2.cvtColor(imageB, cv2.COLOR_BGR2GRAY)\n",
        "cv2.imshow('aba',grayA)"
      ]
    },
    {
      "cell_type": "code",
      "execution_count": null,
      "id": "ac767e32",
      "metadata": {
        "id": "ac767e32",
        "outputId": "76697ba5-2880-47a0-9108-a4b0827b73f0"
      },
      "outputs": [
        {
          "name": "stdout",
          "output_type": "stream",
          "text": [
            "Downloading yolov4.cfg from https://raw.githubusercontent.com/AlexeyAB/darknet/master/cfg/yolov4.cfg\n"
          ]
        },
        {
          "name": "stderr",
          "output_type": "stream",
          "text": [
            "  0% |                                                                         |\r"
          ]
        },
        {
          "name": "stdout",
          "output_type": "stream",
          "text": [
            "Downloading yolov4.weights from https://github.com/AlexeyAB/darknet/releases/download/darknet_yolo_v3_optimal/yolov4.weights\n"
          ]
        },
        {
          "name": "stderr",
          "output_type": "stream",
          "text": [
            " 99% |######################################################################## |\r"
          ]
        },
        {
          "name": "stdout",
          "output_type": "stream",
          "text": [
            "Downloading yolov3_classes.txt from https://github.com/arunponnusamy/object-detection-opencv/raw/master/yolov3.txt\n"
          ]
        },
        {
          "name": "stderr",
          "output_type": "stream",
          "text": [
            "100% |                                                                         |\r"
          ]
        },
        {
          "name": "stdout",
          "output_type": "stream",
          "text": [
            "[] [] []\n"
          ]
        },
        {
          "data": {
            "text/plain": [
              "True"
            ]
          },
          "execution_count": 10,
          "metadata": {},
          "output_type": "execute_result"
        }
      ],
      "source": [
        "# import libraries\n",
        "import cv2\n",
        "import cvlib as cv\n",
        "from cvlib.object_detection import draw_bbox\n",
        "\n",
        "image_path = 'h_1.jpg' # 여기에는 테스트할 이미지의 경로 및 이름을 넣어주시면 됩니다. \n",
        "im = cv2.imread(image_path) # 이미지 읽기\n",
        "\n",
        "\n",
        "# object detection (물체 검출)\n",
        "bbox, label, conf = cv.detect_common_objects(im)\n",
        "\n",
        "print(bbox, label, conf)\n",
        "\n",
        "im = draw_bbox(im, bbox, label, conf) \n",
        "\n",
        "\n",
        "cv2.imwrite('h_1_result.jpg', im) # 이미지 쓰기"
      ]
    }
  ],
  "metadata": {
    "kernelspec": {
      "display_name": "Environment (conda_tensorflow2.7_p38)",
      "language": "python",
      "name": "conda_tensorflow2.7_p38"
    },
    "language_info": {
      "codemirror_mode": {
        "name": "ipython",
        "version": 3
      },
      "file_extension": ".py",
      "mimetype": "text/x-python",
      "name": "python",
      "nbconvert_exporter": "python",
      "pygments_lexer": "ipython3",
      "version": "3.8.0"
    },
    "colab": {
      "provenance": []
    }
  },
  "nbformat": 4,
  "nbformat_minor": 5
}