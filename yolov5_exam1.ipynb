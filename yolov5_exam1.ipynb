{
  "nbformat": 4,
  "nbformat_minor": 0,
  "metadata": {
    "colab": {
      "private_outputs": true,
      "provenance": []
    },
    "kernelspec": {
      "name": "python3",
      "display_name": "Python 3"
    },
    "language_info": {
      "name": "python"
    },
    "accelerator": "GPU"
  },
  "cells": [
    {
      "cell_type": "code",
      "execution_count": null,
      "metadata": {
        "id": "hz4Q_oXVlr5o"
      },
      "outputs": [],
      "source": [
        "from google.colab import drive\n",
        "drive.mount('/content/drive')"
      ]
    },
    {
      "cell_type": "code",
      "source": [
        "# 내 구글 드라이브로 이동\n",
        "#%cd \"/content/drive/MyDrive\"\n",
        "\n",
        "# Yolov5 github 레포지토리 clone\n",
        "!git clone https://github.com/ultralytics/yolov5.git\n",
        "\n",
        "# 필요한 모듈 설치\n",
        "!pip install -U -r yolov5/requirements.txt"
      ],
      "metadata": {
        "id": "ttyk_xYBltpH"
      },
      "execution_count": null,
      "outputs": []
    },
    {
      "cell_type": "code",
      "source": [
        "import torch\n",
        "\n",
        "#파이토치 버전 확인, cuda device properties 확인\n",
        "print('torch %s %s' % (torch.__version__, torch.cuda.get_device_properties(0) if torch.cuda.is_available() else 'CPU'))"
      ],
      "metadata": {
        "id": "N2K7Ctbll0Xp"
      },
      "execution_count": null,
      "outputs": []
    },
    {
      "cell_type": "code",
      "source": [
        "!nvidia-smi  ## 그래픽카드 확인"
      ],
      "metadata": {
        "id": "2SZ4niqeZ1Ln"
      },
      "execution_count": null,
      "outputs": []
    },
    {
      "cell_type": "code",
      "source": [
        "!pip install roboflow\n",
        "## 로보플로우로 라벨링한 파일 불러오기\n",
        "\n",
        "from roboflow import Roboflow\n",
        "rf = Roboflow(api_key=\"HchyR4XCekDUVgZzg923\")\n",
        "project = rf.workspace(\"1213123213-3djv5\").project(\"jumpstart\")\n",
        "dataset = project.version(1).download(\"yolov5\")"
      ],
      "metadata": {
        "id": "kyx4gfIlmW5m"
      },
      "execution_count": null,
      "outputs": []
    },
    {
      "cell_type": "code",
      "source": [
        "from glob import glob\n",
        "\n",
        "\n",
        "\n",
        "# 이미지 경로 list로 넣기\n",
        "train_img_list = glob('./jumpstart-1/train/images/*.jpg') + glob('./train/images/*.jpg')\n",
        "valid_img_list = glob('./jumpstart-1/valid/images/*.jpg') + glob('./valid/images/*.jpg')\n",
        "\n",
        "\n",
        "# txt 파일에 write\n",
        "with open('./train.txt', 'w') as f:\n",
        "\tf.write('\\n'.join(train_img_list) + '\\n')\n",
        "    \n",
        "with open('./valid.txt', 'w') as f:\n",
        "\tf.write('\\n'.join(valid_img_list) + '\\n')"
      ],
      "metadata": {
        "id": "O3FRWVEqmmfE"
      },
      "execution_count": null,
      "outputs": []
    },
    {
      "cell_type": "code",
      "source": [
        "#!curl --data-binary @bul2.jpg  https://mz1gdes0a3.execute-api.us-east-2.amazonaws.com/dev \n",
        "# 람다로 배포후 확인하기"
      ],
      "metadata": {
        "id": "ltlt1E0Ubt4e"
      },
      "execution_count": null,
      "outputs": []
    },
    {
      "cell_type": "code",
      "source": [
        "!python /content/yolov5/train.py --img 320 --batch 16 --epochs 30 --data /content/yolov5/jumpstart-1/data.yaml --weights yolov5x.pt --name result_cubalto --cfg /content/yolov5/models/yolov5x.yaml\n",
        "# yolov5 학습"
      ],
      "metadata": {
        "id": "9WeY4xCHoWdN"
      },
      "execution_count": null,
      "outputs": []
    },
    {
      "cell_type": "code",
      "source": [
        "!cp -r /content/yolov5/runs/train/result_cubalto2 /content/drive/MyDrive/\n",
        "# 결과물 복사"
      ],
      "metadata": {
        "id": "ntYGm8eyoW3g"
      },
      "execution_count": null,
      "outputs": []
    },
    {
      "cell_type": "code",
      "source": [
        "!python /content/yolov5/detect.py --weights /content/drive/MyDrive/result_cubalto2/weights/best.pt --img 320 --conf 0.4 --source /content/drive/MyDrive/result_cubalto2/bukhwa11.jpg\n",
        "# 예측 결과"
      ],
      "metadata": {
        "id": "QEbWdv-4pM-5"
      },
      "execution_count": null,
      "outputs": []
    },
    {
      "cell_type": "code",
      "source": [
        "import cv2\n",
        "from google.colab.patches import cv2_imshow\n",
        "\n",
        "img = cv2.imread('/content/yolov5/runs/detect/exp/bul1.jpg')\n",
        "cv2_imshow(img)\n",
        "#예측 결과 2"
      ],
      "metadata": {
        "id": "VGzxBS8LpzyC"
      },
      "execution_count": null,
      "outputs": []
    },
    {
      "cell_type": "code",
      "source": [
        "!curl --data-binary @- https://imagekioskeot.s3.ap-northeast-2.amazonaws.com/test/114/namnam.jpg https://mz1gdes0a3.execute-api.us-east-2.amazonaws.com/dev/detect\n",
        "# 람다로 배포후 확인하기"
      ],
      "metadata": {
        "id": "w512iGBIaorp"
      },
      "execution_count": null,
      "outputs": []
    },
    {
      "cell_type": "code",
      "source": [
        "!curl -s https://mz1gdes0a3.execute-api.us-east-2.amazonaws.com/dev/detect | curl --data-binary @- https://imagekioskeot.s3.ap-northeast-2.amazonaws.com/test/114/namnam.jpg\n",
        "# 람다로 배포후 확인하기"
      ],
      "metadata": {
        "id": "ywK3y6msk5Q5"
      },
      "execution_count": null,
      "outputs": []
    },
    {
      "cell_type": "code",
      "source": [],
      "metadata": {
        "id": "VKQKVrTNlFy0"
      },
      "execution_count": null,
      "outputs": []
    }
  ]
}